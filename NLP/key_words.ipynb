{
 "cells": [
  {
   "cell_type": "code",
   "execution_count": 1,
   "metadata": {},
   "outputs": [],
   "source": [
    "import pandas as pd\n",
    "import string"
   ]
  },
  {
   "cell_type": "code",
   "execution_count": 2,
   "metadata": {},
   "outputs": [],
   "source": [
    "import nltk\n",
    "from nltk.tokenize import word_tokenize\n",
    "from nltk.probability import FreqDist\n",
    "from nltk.corpus import stopwords\n",
    "from string import punctuation\n",
    "from nltk.stem.wordnet import WordNetLemmatizer\n",
    "from nltk.stem.porter import PorterStemmer\n",
    "from nltk.tokenize import TweetTokenizer"
   ]
  },
  {
   "cell_type": "code",
   "execution_count": 3,
   "metadata": {},
   "outputs": [
    {
     "name": "stderr",
     "output_type": "stream",
     "text": [
      "[nltk_data] Downloading package punkt to\n",
      "[nltk_data]     C:\\Users\\chris\\AppData\\Roaming\\nltk_data...\n",
      "[nltk_data]   Package punkt is already up-to-date!\n",
      "[nltk_data] Downloading package stopwords to\n",
      "[nltk_data]     C:\\Users\\chris\\AppData\\Roaming\\nltk_data...\n",
      "[nltk_data]   Package stopwords is already up-to-date!\n",
      "[nltk_data] Downloading package wordnet to\n",
      "[nltk_data]     C:\\Users\\chris\\AppData\\Roaming\\nltk_data...\n",
      "[nltk_data]   Package wordnet is already up-to-date!\n"
     ]
    },
    {
     "data": {
      "text/plain": [
       "True"
      ]
     },
     "execution_count": 3,
     "metadata": {},
     "output_type": "execute_result"
    }
   ],
   "source": [
    "nltk.download('punkt')\n",
    "nltk.download('stopwords')\n",
    "nltk.download('wordnet')"
   ]
  },
  {
   "cell_type": "code",
   "execution_count": 4,
   "metadata": {},
   "outputs": [],
   "source": [
    "punctuation = []\n",
    "for i in string.punctuation:\n",
    "    punctuation.append(str(i))"
   ]
  },
  {
   "cell_type": "code",
   "execution_count": 5,
   "metadata": {},
   "outputs": [],
   "source": [
    "df = pd.read_excel('../data/qa_data.xlsx')"
   ]
  },
  {
   "cell_type": "code",
   "execution_count": 6,
   "metadata": {},
   "outputs": [
    {
     "data": {
      "text/html": [
       "<div>\n",
       "<style scoped>\n",
       "    .dataframe tbody tr th:only-of-type {\n",
       "        vertical-align: middle;\n",
       "    }\n",
       "\n",
       "    .dataframe tbody tr th {\n",
       "        vertical-align: top;\n",
       "    }\n",
       "\n",
       "    .dataframe thead th {\n",
       "        text-align: right;\n",
       "    }\n",
       "</style>\n",
       "<table border=\"1\" class=\"dataframe\">\n",
       "  <thead>\n",
       "    <tr style=\"text-align: right;\">\n",
       "      <th></th>\n",
       "      <th>Subject</th>\n",
       "      <th>Content</th>\n",
       "      <th>Source</th>\n",
       "      <th>Category</th>\n",
       "    </tr>\n",
       "  </thead>\n",
       "  <tbody>\n",
       "    <tr>\n",
       "      <th>0</th>\n",
       "      <td>NaN</td>\n",
       "      <td>Wie werden die Geräte innerhalb meiner Wohnung...</td>\n",
       "      <td>FAQ (Q&amp;A)</td>\n",
       "      <td>Glasfaser</td>\n",
       "    </tr>\n",
       "    <tr>\n",
       "      <th>1</th>\n",
       "      <td>NaN</td>\n",
       "      <td>Gibt es spezifische Qualitätsmerkmale für Gesc...</td>\n",
       "      <td>FAQ (Q&amp;A)</td>\n",
       "      <td>Glasfaser</td>\n",
       "    </tr>\n",
       "    <tr>\n",
       "      <th>2</th>\n",
       "      <td>NaN</td>\n",
       "      <td>Welche Angebote können über das Glasfasernetz ...</td>\n",
       "      <td>FAQ (Q&amp;A)</td>\n",
       "      <td>Glasfaser</td>\n",
       "    </tr>\n",
       "    <tr>\n",
       "      <th>3</th>\n",
       "      <td>NaN</td>\n",
       "      <td>Wieso macht die (rasche) Vertragsunterschrift ...</td>\n",
       "      <td>FAQ (Q&amp;A)</td>\n",
       "      <td>Glasfaser</td>\n",
       "    </tr>\n",
       "    <tr>\n",
       "      <th>4</th>\n",
       "      <td>NaN</td>\n",
       "      <td>Wie lange dauert die Erschliessung in der Stad...</td>\n",
       "      <td>FAQ (Q&amp;A)</td>\n",
       "      <td>Glasfaser</td>\n",
       "    </tr>\n",
       "  </tbody>\n",
       "</table>\n",
       "</div>"
      ],
      "text/plain": [
       "   Subject                                            Content     Source  \\\n",
       "0      NaN  Wie werden die Geräte innerhalb meiner Wohnung...  FAQ (Q&A)   \n",
       "1      NaN  Gibt es spezifische Qualitätsmerkmale für Gesc...  FAQ (Q&A)   \n",
       "2      NaN  Welche Angebote können über das Glasfasernetz ...  FAQ (Q&A)   \n",
       "3      NaN  Wieso macht die (rasche) Vertragsunterschrift ...  FAQ (Q&A)   \n",
       "4      NaN  Wie lange dauert die Erschliessung in der Stad...  FAQ (Q&A)   \n",
       "\n",
       "    Category  \n",
       "0  Glasfaser  \n",
       "1  Glasfaser  \n",
       "2  Glasfaser  \n",
       "3  Glasfaser  \n",
       "4  Glasfaser  "
      ]
     },
     "execution_count": 6,
     "metadata": {},
     "output_type": "execute_result"
    }
   ],
   "source": [
    "df.head()"
   ]
  },
  {
   "cell_type": "code",
   "execution_count": 7,
   "metadata": {},
   "outputs": [],
   "source": [
    "df['Content'] = df['Content'].str.lower()\n",
    "df['Content'] = df['Content'].str.replace(r'[^\\w\\s]+', '')"
   ]
  },
  {
   "cell_type": "code",
   "execution_count": 8,
   "metadata": {},
   "outputs": [],
   "source": [
    "stop_words=set(stopwords.words(\"german\"))"
   ]
  },
  {
   "cell_type": "code",
   "execution_count": 9,
   "metadata": {},
   "outputs": [],
   "source": [
    "tokens = []\n",
    "for i in df['Content']:\n",
    "    i = i.replace('energie wasser bern', '')\n",
    "    temp = word_tokenize(i)\n",
    "    tokens.append([word for word in temp if word not in stop_words])\n",
    "df['Tokens'] = tokens"
   ]
  },
  {
   "cell_type": "code",
   "execution_count": 10,
   "metadata": {},
   "outputs": [],
   "source": [
    "category_dict = {}\n",
    "for i in set(df['Category']):\n",
    "    temp = []\n",
    "    for j in df.loc[(df['Category']== i)&(df['Source']=='FAQ (Q&A)')]['Tokens']:\n",
    "        temp.extend(j)\n",
    "    category_dict[i] = temp"
   ]
  },
  {
   "cell_type": "code",
   "execution_count": 11,
   "metadata": {},
   "outputs": [],
   "source": [
    "cat_top10 ={}\n",
    "cat_top10_inc_counts = {}\n",
    "for i in category_dict.keys():\n",
    "    fdist = FreqDist(category_dict[i])\n",
    "    cat_top10_inc_counts[i] = fdist.most_common(10)\n",
    "    cat_top10[i] = [i[0] for i in fdist.most_common(10)]\n",
    "pd.DataFrame(cat_top10).to_excel('top_10_words.xls')"
   ]
  },
  {
   "cell_type": "code",
   "execution_count": 12,
   "metadata": {},
   "outputs": [],
   "source": [
    "cat_top20 ={}\n",
    "cat_top20_inc_counts = {}\n",
    "for i in category_dict.keys():\n",
    "    fdist = FreqDist(category_dict[i])\n",
    "    cat_top20_inc_counts[i] = fdist.most_common(20)\n",
    "    cat_top20[i] = [i[0] for i in fdist.most_common(20)]\n",
    "pd.DataFrame(cat_top20).to_excel('top_20_words.xls')\n",
    "pd.DataFrame(cat_top20).to_csv('top_20_words.csv')"
   ]
  },
  {
   "cell_type": "code",
   "execution_count": null,
   "metadata": {},
   "outputs": [],
   "source": []
  },
  {
   "cell_type": "code",
   "execution_count": 13,
   "metadata": {},
   "outputs": [],
   "source": [
    "df_top10 = pd.DataFrame(cat_top10)"
   ]
  },
  {
   "cell_type": "code",
   "execution_count": 14,
   "metadata": {},
   "outputs": [
    {
     "data": {
      "text/html": [
       "<div>\n",
       "<style scoped>\n",
       "    .dataframe tbody tr th:only-of-type {\n",
       "        vertical-align: middle;\n",
       "    }\n",
       "\n",
       "    .dataframe tbody tr th {\n",
       "        vertical-align: top;\n",
       "    }\n",
       "\n",
       "    .dataframe thead th {\n",
       "        text-align: right;\n",
       "    }\n",
       "</style>\n",
       "<table border=\"1\" class=\"dataframe\">\n",
       "  <thead>\n",
       "    <tr style=\"text-align: right;\">\n",
       "      <th></th>\n",
       "      <th>Glasfaser</th>\n",
       "      <th>Mobilitat</th>\n",
       "      <th>Umzug</th>\n",
       "      <th>Netz</th>\n",
       "      <th>Storungen</th>\n",
       "      <th>Internet</th>\n",
       "      <th>Wasser</th>\n",
       "      <th>Strom</th>\n",
       "      <th>Diverses</th>\n",
       "      <th>Kehricht</th>\n",
       "      <th>Warme</th>\n",
       "    </tr>\n",
       "  </thead>\n",
       "  <tbody>\n",
       "    <tr>\n",
       "      <th>0</th>\n",
       "      <td>glasfasernetz</td>\n",
       "      <td>chf</td>\n",
       "      <td>umzug</td>\n",
       "      <td>ewb</td>\n",
       "      <td>klären</td>\n",
       "      <td>router</td>\n",
       "      <td>wasser</td>\n",
       "      <td>ökostrom</td>\n",
       "      <td>kunden</td>\n",
       "      <td>kehricht</td>\n",
       "      <td>erdgas</td>\n",
       "    </tr>\n",
       "    <tr>\n",
       "      <th>1</th>\n",
       "      <td>erschliessung</td>\n",
       "      <td>erdgas</td>\n",
       "      <td>melden</td>\n",
       "      <td>strom</td>\n",
       "      <td>bitte</td>\n",
       "      <td>ewbtv</td>\n",
       "      <td>schweiz</td>\n",
       "      <td>strom</td>\n",
       "      <td>smart</td>\n",
       "      <td>tonne</td>\n",
       "      <td>biogas</td>\n",
       "    </tr>\n",
       "    <tr>\n",
       "      <th>2</th>\n",
       "      <td>wohnung</td>\n",
       "      <td>erdgasfahrzeuge</td>\n",
       "      <td>bringt</td>\n",
       "      <td>kosten</td>\n",
       "      <td>tel</td>\n",
       "      <td>geräte</td>\n",
       "      <td>trinkwasser</td>\n",
       "      <td>stromprodukt</td>\n",
       "      <td>zähler</td>\n",
       "      <td>pro</td>\n",
       "      <td>beim</td>\n",
       "    </tr>\n",
       "    <tr>\n",
       "      <th>3</th>\n",
       "      <td>service</td>\n",
       "      <td>gibt</td>\n",
       "      <td>meist</td>\n",
       "      <td>kunden</td>\n",
       "      <td>ausgefallen</td>\n",
       "      <td>ewbinternet</td>\n",
       "      <td>liter</td>\n",
       "      <td>kunden</td>\n",
       "      <td>strom</td>\n",
       "      <td>strom</td>\n",
       "      <td>bern</td>\n",
       "    </tr>\n",
       "    <tr>\n",
       "      <th>4</th>\n",
       "      <td>bern</td>\n",
       "      <td>ebikes</td>\n",
       "      <td>bürokratischen</td>\n",
       "      <td>warum</td>\n",
       "      <td>ab</td>\n",
       "      <td>kontrollieren</td>\n",
       "      <td>rund</td>\n",
       "      <td>produziert</td>\n",
       "      <td>meter</td>\n",
       "      <td>ab</td>\n",
       "      <td>etwa</td>\n",
       "    </tr>\n",
       "    <tr>\n",
       "      <th>5</th>\n",
       "      <td>eigentümer</td>\n",
       "      <td>fahrzeuge</td>\n",
       "      <td>erledigungen</td>\n",
       "      <td>müssen</td>\n",
       "      <td>handelt</td>\n",
       "      <td>nutzen</td>\n",
       "      <td>bern</td>\n",
       "      <td>mehr</td>\n",
       "      <td>teil</td>\n",
       "      <td>müssen</td>\n",
       "      <td>pro</td>\n",
       "    </tr>\n",
       "    <tr>\n",
       "      <th>6</th>\n",
       "      <td>anschluss</td>\n",
       "      <td>akku</td>\n",
       "      <td>onlineformulare</td>\n",
       "      <td>netzanschluss</td>\n",
       "      <td>nachbarn</td>\n",
       "      <td>kundendienst</td>\n",
       "      <td>mineralwässer</td>\n",
       "      <td>kundinnen</td>\n",
       "      <td>jahresrechnung</td>\n",
       "      <td>deponiert</td>\n",
       "      <td>jahr</td>\n",
       "    </tr>\n",
       "    <tr>\n",
       "      <th>7</th>\n",
       "      <td>angeschlossen</td>\n",
       "      <td>schweiz</td>\n",
       "      <td>erleichtern</td>\n",
       "      <td>schweiz</td>\n",
       "      <td>störung</td>\n",
       "      <td>fritzbox</td>\n",
       "      <td>prozent</td>\n",
       "      <td>bestellen</td>\n",
       "      <td>kunde</td>\n",
       "      <td>kwh</td>\n",
       "      <td>preise</td>\n",
       "    </tr>\n",
       "    <tr>\n",
       "      <th>8</th>\n",
       "      <td>angebote</td>\n",
       "      <td>ja</td>\n",
       "      <td>abmeldung</td>\n",
       "      <td>trägt</td>\n",
       "      <td>rufen</td>\n",
       "      <td>internet</td>\n",
       "      <td>hahnenwasser</td>\n",
       "      <td>anteil</td>\n",
       "      <td>kundinnen</td>\n",
       "      <td>holz</td>\n",
       "      <td>beziehen</td>\n",
       "    </tr>\n",
       "    <tr>\n",
       "      <th>9</th>\n",
       "      <td>geschäftskunden</td>\n",
       "      <td>km</td>\n",
       "      <td>möchte</td>\n",
       "      <td>swissgrid</td>\n",
       "      <td>031</td>\n",
       "      <td>11</td>\n",
       "      <td>qualität</td>\n",
       "      <td>hergestellt</td>\n",
       "      <td>hydrospeicher</td>\n",
       "      <td>erzeugt</td>\n",
       "      <td>kunden</td>\n",
       "    </tr>\n",
       "  </tbody>\n",
       "</table>\n",
       "</div>"
      ],
      "text/plain": [
       "         Glasfaser        Mobilitat            Umzug           Netz  \\\n",
       "0    glasfasernetz              chf            umzug            ewb   \n",
       "1    erschliessung           erdgas           melden          strom   \n",
       "2          wohnung  erdgasfahrzeuge           bringt         kosten   \n",
       "3          service             gibt            meist         kunden   \n",
       "4             bern           ebikes   bürokratischen          warum   \n",
       "5       eigentümer        fahrzeuge     erledigungen         müssen   \n",
       "6        anschluss             akku  onlineformulare  netzanschluss   \n",
       "7    angeschlossen          schweiz      erleichtern        schweiz   \n",
       "8         angebote               ja        abmeldung          trägt   \n",
       "9  geschäftskunden               km           möchte      swissgrid   \n",
       "\n",
       "     Storungen       Internet         Wasser         Strom        Diverses  \\\n",
       "0       klären         router         wasser      ökostrom          kunden   \n",
       "1        bitte          ewbtv        schweiz         strom           smart   \n",
       "2          tel         geräte    trinkwasser  stromprodukt          zähler   \n",
       "3  ausgefallen    ewbinternet          liter        kunden           strom   \n",
       "4           ab  kontrollieren           rund    produziert           meter   \n",
       "5      handelt         nutzen           bern          mehr            teil   \n",
       "6     nachbarn   kundendienst  mineralwässer     kundinnen  jahresrechnung   \n",
       "7      störung       fritzbox        prozent     bestellen           kunde   \n",
       "8        rufen       internet   hahnenwasser        anteil       kundinnen   \n",
       "9          031             11       qualität   hergestellt   hydrospeicher   \n",
       "\n",
       "    Kehricht     Warme  \n",
       "0   kehricht    erdgas  \n",
       "1      tonne    biogas  \n",
       "2        pro      beim  \n",
       "3      strom      bern  \n",
       "4         ab      etwa  \n",
       "5     müssen       pro  \n",
       "6  deponiert      jahr  \n",
       "7        kwh    preise  \n",
       "8       holz  beziehen  \n",
       "9    erzeugt    kunden  "
      ]
     },
     "execution_count": 14,
     "metadata": {},
     "output_type": "execute_result"
    }
   ],
   "source": [
    "df_top10"
   ]
  },
  {
   "cell_type": "code",
   "execution_count": 15,
   "metadata": {},
   "outputs": [],
   "source": [
    "df_top10_scores = df_top10.copy()"
   ]
  },
  {
   "cell_type": "code",
   "execution_count": 27,
   "metadata": {},
   "outputs": [],
   "source": [
    "all_scores = []\n",
    "max_scores = []\n",
    "all_categories = []\n",
    "for i in df['Tokens']:\n",
    "    score = dict.fromkeys(df_top10.columns, 0)\n",
    "    for j, j_in in zip(df_top10.columns, list(df_top10.index)):\n",
    "        for l in df_top10[j]:\n",
    "            if l in i:\n",
    "                score[j] += 10-j_in\n",
    "    all_scores.append(score)\n",
    "    max_scores.append(score[max(score, key=score.get)])\n",
    "    all_categories.append(max(score, key=score.get))"
   ]
  },
  {
   "cell_type": "code",
   "execution_count": 17,
   "metadata": {},
   "outputs": [],
   "source": [
    "df['max_scores'] = max_scores\n",
    "df['all_scores'] = all_scores"
   ]
  },
  {
   "cell_type": "code",
   "execution_count": 18,
   "metadata": {},
   "outputs": [],
   "source": [
    "correct = [x == y for x,y in zip(df['Category'], df['max_scores'])]"
   ]
  },
  {
   "cell_type": "code",
   "execution_count": 19,
   "metadata": {},
   "outputs": [],
   "source": [
    "df['correct'] = correct"
   ]
  },
  {
   "cell_type": "code",
   "execution_count": 20,
   "metadata": {},
   "outputs": [
    {
     "data": {
      "text/plain": [
       "0.5290858725761773"
      ]
     },
     "execution_count": 20,
     "metadata": {},
     "output_type": "execute_result"
    }
   ],
   "source": [
    "sum(df.loc[df['Source']=='FAQ (Q&A)']['correct'])/len(df.loc[df['Source']=='FAQ (Q&A)'])"
   ]
  },
  {
   "cell_type": "code",
   "execution_count": 75,
   "metadata": {},
   "outputs": [
    {
     "name": "stderr",
     "output_type": "stream",
     "text": [
      "[nltk_data] Downloading package stopwords to\n",
      "[nltk_data]     C:\\Users\\chris\\AppData\\Roaming\\nltk_data...\n",
      "[nltk_data]   Package stopwords is already up-to-date!\n"
     ]
    }
   ],
   "source": [
    "import pandas as pd\n",
    "from nltk.tokenize import word_tokenize\n",
    "from nltk.probability import FreqDist\n",
    "\n",
    "from google.cloud import language\n",
    "from google.cloud.language import enums\n",
    "from google.cloud.language import types\n",
    "\n",
    "path = 'google_credentials.json' \n",
    "client = language.LanguageServiceClient.from_service_account_json(path)\n",
    "\n",
    "nltk.download('stopwords')\n",
    "df_top10 = pd.read_excel('top_10_words.xls')\n",
    "\n",
    "def preprocess(text):\n",
    "    text = text.lower()\n",
    "    text = text.replace(r'[^\\w\\s]+', '')\n",
    "    tokens = word_tokenize(text)\n",
    "    tokens = [word for word in tokens if word not in stop_words]\n",
    "    return tokens\n",
    "\n",
    "def get_score(tokens):\n",
    "    score = dict.fromkeys(df_top10.columns, 0)\n",
    "    for j, j_in in zip(df_top10.columns, list(df_top10.index)):\n",
    "        for l in df_top10[j]:\n",
    "            if l in tokens:\n",
    "                score[j] += 10-j_in\n",
    "    category = (max(score, key=score.get))\n",
    "    score = score[max(score, key=score.get)]\n",
    "    return score, category\n",
    "\n",
    "def google_sentiment(text):\n",
    "    # Score is positive or negative sentiment\n",
    "    # Magnitude is how much the text displays that\n",
    "    document = language.types.Document(\n",
    "            content=text,\n",
    "            type=language.enums.Document.Type.PLAIN_TEXT)\n",
    "    annotations = client.analyze_sentiment(document=document)\n",
    "    score = annotations.document_sentiment.score\n",
    "    magnitude = annotations.document_sentiment.magnitude\n",
    "    if (score > 2.) & (magnitude > 4.):\n",
    "        ex_negative = True\n",
    "    else:\n",
    "        ex_negative = False\n",
    "    return ex_negative\n",
    "\n",
    "def packaged_results(timestamp, message, user_name, contact_details):  #user_id, etc just given as examples\n",
    "    category_score, category = get_score(preprocess(message))\n",
    "    extreme_negative = google_sentiment(message)\n",
    "    return {'timestamp':timestamp,'user_name':user_name, 'message': message, 'category': category, 'category_score': score, 'extreme_negative': extreme_negative}"
   ]
  },
  {
   "cell_type": "code",
   "execution_count": 76,
   "metadata": {},
   "outputs": [
    {
     "data": {
      "text/plain": [
       "{'timestamp': 'time',\n",
       " 'user_name': 'user_name',\n",
       " 'message': 'Sehr geehrte Damen und Herren\\n\\nGerne möchte ich ab sofort mein Stromprodukt wechseln von Natur.Strom zu Basis.Strom. Bitte veranlassen Sie dies auf den nächstmöglichen Zeitpunkt. Besten Dank.',\n",
       " 'category': 'Storungen',\n",
       " 'category_score': 10,\n",
       " 'extreme_negative': False}"
      ]
     },
     "execution_count": 76,
     "metadata": {},
     "output_type": "execute_result"
    }
   ],
   "source": [
    "packaged_results('time',df_email['Mail'].loc[0], 'user_name', 'contact_details')"
   ]
  },
  {
   "cell_type": "code",
   "execution_count": 37,
   "metadata": {},
   "outputs": [],
   "source": [
    "def preprocess(text):\n",
    "    text = text.lower()\n",
    "    text = text.replace(r'[^\\w\\s]+', '')\n",
    "    tokens = word_tokenize(text)\n",
    "    tokens = [word for word in tokens if word not in stop_words]\n",
    "    return tokens"
   ]
  },
  {
   "cell_type": "code",
   "execution_count": 47,
   "metadata": {},
   "outputs": [],
   "source": [
    "def get_score(tokens):\n",
    "    score = dict.fromkeys(df_top10.columns, 0)\n",
    "    for j, j_in in zip(df_top10.columns, list(df_top10.index)):\n",
    "        for l in df_top10[j]:\n",
    "            if l in tokens:\n",
    "                score[j] += 10-j_in\n",
    "    category = (max(score, key=score.get))\n",
    "    score = score[max(score, key=score.get)]\n",
    "    return score, category"
   ]
  },
  {
   "cell_type": "code",
   "execution_count": 44,
   "metadata": {},
   "outputs": [],
   "source": [
    "def get_multiple(series):\n",
    "    categories = []\n",
    "    scores = []\n",
    "    for i in series:\n",
    "        score, category =get_score(preprocess(i))\n",
    "        scores.append(score)\n",
    "        categories.append(category)\n",
    "    return categories, scores"
   ]
  },
  {
   "cell_type": "code",
   "execution_count": 48,
   "metadata": {},
   "outputs": [],
   "source": [
    "score, category =get_score(preprocess(df_email['Mail'].loc[0]))"
   ]
  },
  {
   "cell_type": "code",
   "execution_count": 49,
   "metadata": {},
   "outputs": [
    {
     "data": {
      "text/plain": [
       "10"
      ]
     },
     "execution_count": 49,
     "metadata": {},
     "output_type": "execute_result"
    }
   ],
   "source": [
    "score"
   ]
  },
  {
   "cell_type": "code",
   "execution_count": 50,
   "metadata": {},
   "outputs": [
    {
     "data": {
      "text/plain": [
       "'Storungen'"
      ]
     },
     "execution_count": 50,
     "metadata": {},
     "output_type": "execute_result"
    }
   ],
   "source": [
    "category"
   ]
  },
  {
   "cell_type": "markdown",
   "metadata": {},
   "source": [
    "# Testing"
   ]
  },
  {
   "cell_type": "code",
   "execution_count": 34,
   "metadata": {},
   "outputs": [],
   "source": [
    "df_email = pd.read_excel('../data/Mails.xlsx')"
   ]
  },
  {
   "cell_type": "code",
   "execution_count": 35,
   "metadata": {},
   "outputs": [
    {
     "data": {
      "text/html": [
       "<div>\n",
       "<style scoped>\n",
       "    .dataframe tbody tr th:only-of-type {\n",
       "        vertical-align: middle;\n",
       "    }\n",
       "\n",
       "    .dataframe tbody tr th {\n",
       "        vertical-align: top;\n",
       "    }\n",
       "\n",
       "    .dataframe thead th {\n",
       "        text-align: right;\n",
       "    }\n",
       "</style>\n",
       "<table border=\"1\" class=\"dataframe\">\n",
       "  <thead>\n",
       "    <tr style=\"text-align: right;\">\n",
       "      <th></th>\n",
       "      <th>Betreff</th>\n",
       "      <th>Mail</th>\n",
       "      <th>Zuständig</th>\n",
       "      <th>Antwort</th>\n",
       "      <th>Kategorie</th>\n",
       "    </tr>\n",
       "  </thead>\n",
       "  <tbody>\n",
       "    <tr>\n",
       "      <th>0</th>\n",
       "      <td>Wechsel Stromprodukt</td>\n",
       "      <td>Sehr geehrte Damen und Herren\\n\\nGerne möchte ...</td>\n",
       "      <td>Allgemein</td>\n",
       "      <td>Verweis Kundenportal</td>\n",
       "      <td>Strom</td>\n",
       "    </tr>\n",
       "    <tr>\n",
       "      <th>1</th>\n",
       "      <td>Re: Aufschaltbestätigung</td>\n",
       "      <td>Guten Tag\\n\\nAlles bestens soweit, herzlichen ...</td>\n",
       "      <td>Internet</td>\n",
       "      <td>FAQ</td>\n",
       "      <td>Internet, TV</td>\n",
       "    </tr>\n",
       "    <tr>\n",
       "      <th>2</th>\n",
       "      <td>Re: Aufschaltbestätigung</td>\n",
       "      <td>Guten Abend \\n\\nNachdem ich seit dem ersten Ta...</td>\n",
       "      <td>Internet</td>\n",
       "      <td>NaN</td>\n",
       "      <td>Internet, TV, Störungen</td>\n",
       "    </tr>\n",
       "    <tr>\n",
       "      <th>3</th>\n",
       "      <td>NaN</td>\n",
       "      <td>Sehr geehrte Damen und Herren\\n \\nLeider sehe ...</td>\n",
       "      <td>Allgemein</td>\n",
       "      <td>NaN</td>\n",
       "      <td>Strom, Wärme</td>\n",
       "    </tr>\n",
       "    <tr>\n",
       "      <th>4</th>\n",
       "      <td>DRINGEND: Ihre Anfrage betreffend Glasfaserint...</td>\n",
       "      <td>Sehr geehrte Damen und Herren\\n\\nIch hab’s wir...</td>\n",
       "      <td>Beschwerdemanagement</td>\n",
       "      <td>NaN</td>\n",
       "      <td>Internet, Glasfaser</td>\n",
       "    </tr>\n",
       "  </tbody>\n",
       "</table>\n",
       "</div>"
      ],
      "text/plain": [
       "                                             Betreff  \\\n",
       "0                               Wechsel Stromprodukt   \n",
       "1                           Re: Aufschaltbestätigung   \n",
       "2                           Re: Aufschaltbestätigung   \n",
       "3                                                NaN   \n",
       "4  DRINGEND: Ihre Anfrage betreffend Glasfaserint...   \n",
       "\n",
       "                                                Mail             Zuständig  \\\n",
       "0  Sehr geehrte Damen und Herren\\n\\nGerne möchte ...             Allgemein   \n",
       "1  Guten Tag\\n\\nAlles bestens soweit, herzlichen ...              Internet   \n",
       "2  Guten Abend \\n\\nNachdem ich seit dem ersten Ta...              Internet   \n",
       "3  Sehr geehrte Damen und Herren\\n \\nLeider sehe ...             Allgemein   \n",
       "4  Sehr geehrte Damen und Herren\\n\\nIch hab’s wir...  Beschwerdemanagement   \n",
       "\n",
       "                Antwort                Kategorie  \n",
       "0  Verweis Kundenportal                    Strom  \n",
       "1                   FAQ             Internet, TV  \n",
       "2                   NaN  Internet, TV, Störungen  \n",
       "3                   NaN             Strom, Wärme  \n",
       "4                   NaN      Internet, Glasfaser  "
      ]
     },
     "execution_count": 35,
     "metadata": {},
     "output_type": "execute_result"
    }
   ],
   "source": [
    "df_email.head()"
   ]
  },
  {
   "cell_type": "code",
   "execution_count": 36,
   "metadata": {},
   "outputs": [
    {
     "ename": "NameError",
     "evalue": "name 'get_multiple' is not defined",
     "output_type": "error",
     "traceback": [
      "\u001b[1;31m---------------------------------------------------------------------------\u001b[0m",
      "\u001b[1;31mNameError\u001b[0m                                 Traceback (most recent call last)",
      "\u001b[1;32m<ipython-input-36-5fa4e2b12b33>\u001b[0m in \u001b[0;36m<module>\u001b[1;34m\u001b[0m\n\u001b[1;32m----> 1\u001b[1;33m \u001b[0mcategories\u001b[0m\u001b[1;33m,\u001b[0m \u001b[0mscores\u001b[0m \u001b[1;33m=\u001b[0m \u001b[0mget_multiple\u001b[0m\u001b[1;33m(\u001b[0m\u001b[0mdf_email\u001b[0m\u001b[1;33m[\u001b[0m\u001b[1;34m'Mail'\u001b[0m\u001b[1;33m]\u001b[0m\u001b[1;33m)\u001b[0m\u001b[1;33m\u001b[0m\u001b[1;33m\u001b[0m\u001b[0m\n\u001b[0m",
      "\u001b[1;31mNameError\u001b[0m: name 'get_multiple' is not defined"
     ]
    }
   ],
   "source": [
    "categories, scores = get_multiple(df_email['Mail'])"
   ]
  },
  {
   "cell_type": "code",
   "execution_count": 34,
   "metadata": {},
   "outputs": [],
   "source": [
    "df_email['categories'] = categories"
   ]
  },
  {
   "cell_type": "code",
   "execution_count": 35,
   "metadata": {},
   "outputs": [],
   "source": [
    "df_email.to_excel('email_cats.xls')"
   ]
  },
  {
   "cell_type": "code",
   "execution_count": 42,
   "metadata": {},
   "outputs": [
    {
     "data": {
      "text/plain": [
       "'Sehr geehrte Damen und Herren\\n\\nGerne möchte ich ab sofort mein Stromprodukt wechseln von Natur.Strom zu Basis.Strom. Bitte veranlassen Sie dies auf den nächstmöglichen Zeitpunkt. Besten Dank.'"
      ]
     },
     "execution_count": 42,
     "metadata": {},
     "output_type": "execute_result"
    }
   ],
   "source": [
    "df_email['Mail'].loc[0]"
   ]
  },
  {
   "cell_type": "markdown",
   "metadata": {},
   "source": [
    "# Sentiment Analysis"
   ]
  },
  {
   "cell_type": "code",
   "execution_count": 48,
   "metadata": {},
   "outputs": [],
   "source": [
    "from google.cloud import language\n",
    "from google.cloud.language import enums\n",
    "from google.cloud.language import types"
   ]
  },
  {
   "cell_type": "code",
   "execution_count": 49,
   "metadata": {},
   "outputs": [],
   "source": [
    "#Setup\n",
    "\n",
    "path = '/Users/chris/OneDrive/flatiron/own_work/attest/google_credentials.json' \n",
    "client = language.LanguageServiceClient.from_service_account_json(path)"
   ]
  },
  {
   "cell_type": "code",
   "execution_count": 51,
   "metadata": {},
   "outputs": [
    {
     "data": {
      "text/plain": [
       "(0.6000000238418579, 2.5)"
      ]
     },
     "execution_count": 51,
     "metadata": {},
     "output_type": "execute_result"
    }
   ],
   "source": [
    "google_sentiment(df_email['Mail'].loc[0])"
   ]
  },
  {
   "cell_type": "code",
   "execution_count": 62,
   "metadata": {},
   "outputs": [],
   "source": [
    "def google_sentiment(text):\n",
    "    # Score is positive or negative sentiment\n",
    "    # Magnitude is how much the text displays that\n",
    "    document = language.types.Document(\n",
    "            content=text,\n",
    "            type=language.enums.Document.Type.PLAIN_TEXT)\n",
    "    annotations = client.analyze_sentiment(document=document)\n",
    "    score = annotations.document_sentiment.score\n",
    "    magnitude = annotations.document_sentiment.magnitude\n",
    "    return score"
   ]
  },
  {
   "cell_type": "code",
   "execution_count": 63,
   "metadata": {},
   "outputs": [
    {
     "data": {
      "text/plain": [
       "0.6000000238418579"
      ]
     },
     "execution_count": 63,
     "metadata": {},
     "output_type": "execute_result"
    }
   ],
   "source": [
    "google_sentiment(df_email['Mail'].loc[0])"
   ]
  },
  {
   "cell_type": "code",
   "execution_count": null,
   "metadata": {},
   "outputs": [],
   "source": [
    "    if score > 2 & magnitude > 4:\n",
    "        ex_negative = True\n",
    "    return ex_negative"
   ]
  }
 ],
 "metadata": {
  "kernelspec": {
   "display_name": "nlp_env",
   "language": "python",
   "name": "nlp_env"
  },
  "language_info": {
   "codemirror_mode": {
    "name": "ipython",
    "version": 3
   },
   "file_extension": ".py",
   "mimetype": "text/x-python",
   "name": "python",
   "nbconvert_exporter": "python",
   "pygments_lexer": "ipython3",
   "version": "3.7.3"
  }
 },
 "nbformat": 4,
 "nbformat_minor": 2
}
