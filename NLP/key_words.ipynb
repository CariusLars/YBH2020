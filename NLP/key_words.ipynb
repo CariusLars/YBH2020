{
 "cells": [
  {
   "cell_type": "code",
   "execution_count": 1,
   "metadata": {},
   "outputs": [],
   "source": [
    "import pandas as pd\n",
    "import string"
   ]
  },
  {
   "cell_type": "code",
   "execution_count": 2,
   "metadata": {},
   "outputs": [],
   "source": [
    "import nltk\n",
    "from nltk.tokenize import word_tokenize\n",
    "from nltk.probability import FreqDist\n",
    "from nltk.corpus import stopwords\n",
    "from string import punctuation\n",
    "from nltk.stem.wordnet import WordNetLemmatizer\n",
    "from nltk.stem.porter import PorterStemmer\n",
    "from nltk.tokenize import TweetTokenizer"
   ]
  },
  {
   "cell_type": "code",
   "execution_count": 3,
   "metadata": {},
   "outputs": [
    {
     "name": "stderr",
     "output_type": "stream",
     "text": [
      "[nltk_data] Downloading package punkt to\n",
      "[nltk_data]     C:\\Users\\chris\\AppData\\Roaming\\nltk_data...\n",
      "[nltk_data]   Package punkt is already up-to-date!\n",
      "[nltk_data] Downloading package stopwords to\n",
      "[nltk_data]     C:\\Users\\chris\\AppData\\Roaming\\nltk_data...\n",
      "[nltk_data]   Package stopwords is already up-to-date!\n",
      "[nltk_data] Downloading package wordnet to\n",
      "[nltk_data]     C:\\Users\\chris\\AppData\\Roaming\\nltk_data...\n",
      "[nltk_data]   Package wordnet is already up-to-date!\n"
     ]
    },
    {
     "data": {
      "text/plain": [
       "True"
      ]
     },
     "execution_count": 3,
     "metadata": {},
     "output_type": "execute_result"
    }
   ],
   "source": [
    "nltk.download('punkt')\n",
    "nltk.download('stopwords')\n",
    "nltk.download('wordnet')"
   ]
  },
  {
   "cell_type": "code",
   "execution_count": 4,
   "metadata": {},
   "outputs": [],
   "source": [
    "punctuation = []\n",
    "for i in string.punctuation:\n",
    "    punctuation.append(str(i))"
   ]
  },
  {
   "cell_type": "code",
   "execution_count": 52,
   "metadata": {},
   "outputs": [],
   "source": [
    "df = pd.read_excel('../data/qa_data.xlsx')"
   ]
  },
  {
   "cell_type": "code",
   "execution_count": 53,
   "metadata": {},
   "outputs": [
    {
     "data": {
      "text/html": [
       "<div>\n",
       "<style scoped>\n",
       "    .dataframe tbody tr th:only-of-type {\n",
       "        vertical-align: middle;\n",
       "    }\n",
       "\n",
       "    .dataframe tbody tr th {\n",
       "        vertical-align: top;\n",
       "    }\n",
       "\n",
       "    .dataframe thead th {\n",
       "        text-align: right;\n",
       "    }\n",
       "</style>\n",
       "<table border=\"1\" class=\"dataframe\">\n",
       "  <thead>\n",
       "    <tr style=\"text-align: right;\">\n",
       "      <th></th>\n",
       "      <th>Subject</th>\n",
       "      <th>Content</th>\n",
       "      <th>Source</th>\n",
       "      <th>Category</th>\n",
       "    </tr>\n",
       "  </thead>\n",
       "  <tbody>\n",
       "    <tr>\n",
       "      <th>0</th>\n",
       "      <td>NaN</td>\n",
       "      <td>Wie werden die Geräte innerhalb meiner Wohnung...</td>\n",
       "      <td>FAQ (Q&amp;A)</td>\n",
       "      <td>Glasfaser</td>\n",
       "    </tr>\n",
       "    <tr>\n",
       "      <th>1</th>\n",
       "      <td>NaN</td>\n",
       "      <td>Gibt es spezifische Qualitätsmerkmale für Gesc...</td>\n",
       "      <td>FAQ (Q&amp;A)</td>\n",
       "      <td>Glasfaser</td>\n",
       "    </tr>\n",
       "    <tr>\n",
       "      <th>2</th>\n",
       "      <td>NaN</td>\n",
       "      <td>Welche Angebote können über das Glasfasernetz ...</td>\n",
       "      <td>FAQ (Q&amp;A)</td>\n",
       "      <td>Glasfaser</td>\n",
       "    </tr>\n",
       "    <tr>\n",
       "      <th>3</th>\n",
       "      <td>NaN</td>\n",
       "      <td>Wieso macht die (rasche) Vertragsunterschrift ...</td>\n",
       "      <td>FAQ (Q&amp;A)</td>\n",
       "      <td>Glasfaser</td>\n",
       "    </tr>\n",
       "    <tr>\n",
       "      <th>4</th>\n",
       "      <td>NaN</td>\n",
       "      <td>Wie lange dauert die Erschliessung in der Stad...</td>\n",
       "      <td>FAQ (Q&amp;A)</td>\n",
       "      <td>Glasfaser</td>\n",
       "    </tr>\n",
       "  </tbody>\n",
       "</table>\n",
       "</div>"
      ],
      "text/plain": [
       "   Subject                                            Content     Source  \\\n",
       "0      NaN  Wie werden die Geräte innerhalb meiner Wohnung...  FAQ (Q&A)   \n",
       "1      NaN  Gibt es spezifische Qualitätsmerkmale für Gesc...  FAQ (Q&A)   \n",
       "2      NaN  Welche Angebote können über das Glasfasernetz ...  FAQ (Q&A)   \n",
       "3      NaN  Wieso macht die (rasche) Vertragsunterschrift ...  FAQ (Q&A)   \n",
       "4      NaN  Wie lange dauert die Erschliessung in der Stad...  FAQ (Q&A)   \n",
       "\n",
       "    Category  \n",
       "0  Glasfaser  \n",
       "1  Glasfaser  \n",
       "2  Glasfaser  \n",
       "3  Glasfaser  \n",
       "4  Glasfaser  "
      ]
     },
     "execution_count": 53,
     "metadata": {},
     "output_type": "execute_result"
    }
   ],
   "source": [
    "df.head()"
   ]
  },
  {
   "cell_type": "code",
   "execution_count": 54,
   "metadata": {},
   "outputs": [],
   "source": [
    "df['Content'] = df['Content'].str.lower()\n",
    "df['Content'] = df['Content'].str.replace(r'[^\\w\\s]+', '')"
   ]
  },
  {
   "cell_type": "code",
   "execution_count": 55,
   "metadata": {},
   "outputs": [],
   "source": [
    "stop_words=set(stopwords.words(\"german\"))"
   ]
  },
  {
   "cell_type": "code",
   "execution_count": 56,
   "metadata": {},
   "outputs": [],
   "source": [
    "tokens = []\n",
    "for i in df['Content']:\n",
    "    i = i.replace('energie wasser bern', '')\n",
    "    temp = word_tokenize(i)\n",
    "    tokens.append([word for word in temp if word not in stop_words])\n",
    "df['Tokens'] = tokens"
   ]
  },
  {
   "cell_type": "code",
   "execution_count": 57,
   "metadata": {},
   "outputs": [],
   "source": [
    "category_dict = {}\n",
    "for i in set(df['Category']):\n",
    "    temp = []\n",
    "    for j in df.loc[(df['Category']== i)&(df['Source']=='FAQ (Q&A)')]['Tokens']:\n",
    "        temp.extend(j)\n",
    "    category_dict[i] = temp"
   ]
  },
  {
   "cell_type": "code",
   "execution_count": 60,
   "metadata": {},
   "outputs": [],
   "source": [
    "cat_top10 ={}\n",
    "cat_top10_inc_counts = {}\n",
    "for i in category_dict.keys():\n",
    "    fdist = FreqDist(category_dict[i])\n",
    "    cat_top10_inc_counts[i] = fdist.most_common(10)\n",
    "    cat_top10[i] = [i[0] for i in fdist.most_common(10)]\n",
    "pd.DataFrame(cat_top10).to_excel('top_10_words.xls')"
   ]
  },
  {
   "cell_type": "code",
   "execution_count": 61,
   "metadata": {},
   "outputs": [],
   "source": [
    "cat_top20 ={}\n",
    "cat_top20_inc_counts = {}\n",
    "for i in category_dict.keys():\n",
    "    fdist = FreqDist(category_dict[i])\n",
    "    cat_top20_inc_counts[i] = fdist.most_common(20)\n",
    "    cat_top20[i] = [i[0] for i in fdist.most_common(20)]\n",
    "pd.DataFrame(cat_top20).to_excel('top_20_words.xls')\n",
    "pd.DataFrame(cat_top20).to_csv('top_20_words.csv')"
   ]
  },
  {
   "cell_type": "code",
   "execution_count": 16,
   "metadata": {},
   "outputs": [],
   "source": []
  },
  {
   "cell_type": "code",
   "execution_count": 18,
   "metadata": {},
   "outputs": [],
   "source": [
    "df_top10 = pd.DataFrame(cat_top10)"
   ]
  },
  {
   "cell_type": "code",
   "execution_count": 19,
   "metadata": {},
   "outputs": [
    {
     "data": {
      "text/html": [
       "<div>\n",
       "<style scoped>\n",
       "    .dataframe tbody tr th:only-of-type {\n",
       "        vertical-align: middle;\n",
       "    }\n",
       "\n",
       "    .dataframe tbody tr th {\n",
       "        vertical-align: top;\n",
       "    }\n",
       "\n",
       "    .dataframe thead th {\n",
       "        text-align: right;\n",
       "    }\n",
       "</style>\n",
       "<table border=\"1\" class=\"dataframe\">\n",
       "  <thead>\n",
       "    <tr style=\"text-align: right;\">\n",
       "      <th></th>\n",
       "      <th>Glasfaser</th>\n",
       "      <th>Kehricht</th>\n",
       "      <th>Strom</th>\n",
       "      <th>Internet</th>\n",
       "      <th>Netz</th>\n",
       "      <th>Warme</th>\n",
       "      <th>Mobilitat</th>\n",
       "      <th>Umzug</th>\n",
       "      <th>Diverses</th>\n",
       "      <th>Storungen</th>\n",
       "      <th>Wasser</th>\n",
       "    </tr>\n",
       "  </thead>\n",
       "  <tbody>\n",
       "    <tr>\n",
       "      <th>0</th>\n",
       "      <td>bern</td>\n",
       "      <td>kehricht</td>\n",
       "      <td>ökostrom</td>\n",
       "      <td>router</td>\n",
       "      <td>ewb</td>\n",
       "      <td>erdgas</td>\n",
       "      <td>chf</td>\n",
       "      <td>umzug</td>\n",
       "      <td>wasser</td>\n",
       "      <td>klären</td>\n",
       "      <td>wasser</td>\n",
       "    </tr>\n",
       "    <tr>\n",
       "      <th>1</th>\n",
       "      <td>energie</td>\n",
       "      <td>tonne</td>\n",
       "      <td>strom</td>\n",
       "      <td>ewbtv</td>\n",
       "      <td>strom</td>\n",
       "      <td>biogas</td>\n",
       "      <td>erdgas</td>\n",
       "      <td>melden</td>\n",
       "      <td>energie</td>\n",
       "      <td>bitte</td>\n",
       "      <td>schweiz</td>\n",
       "    </tr>\n",
       "    <tr>\n",
       "      <th>2</th>\n",
       "      <td>wasser</td>\n",
       "      <td>pro</td>\n",
       "      <td>energie</td>\n",
       "      <td>geräte</td>\n",
       "      <td>kosten</td>\n",
       "      <td>bern</td>\n",
       "      <td>erdgasfahrzeuge</td>\n",
       "      <td>bringt</td>\n",
       "      <td>bern</td>\n",
       "      <td>tel</td>\n",
       "      <td>trinkwasser</td>\n",
       "    </tr>\n",
       "    <tr>\n",
       "      <th>3</th>\n",
       "      <td>glasfasernetz</td>\n",
       "      <td>strom</td>\n",
       "      <td>stromprodukt</td>\n",
       "      <td>ewbinternet</td>\n",
       "      <td>bern</td>\n",
       "      <td>energie</td>\n",
       "      <td>gibt</td>\n",
       "      <td>meist</td>\n",
       "      <td>kunden</td>\n",
       "      <td>ausgefallen</td>\n",
       "      <td>liter</td>\n",
       "    </tr>\n",
       "    <tr>\n",
       "      <th>4</th>\n",
       "      <td>erschliessung</td>\n",
       "      <td>ab</td>\n",
       "      <td>wasser</td>\n",
       "      <td>kontrollieren</td>\n",
       "      <td>energie</td>\n",
       "      <td>wasser</td>\n",
       "      <td>ebikes</td>\n",
       "      <td>bürokratischen</td>\n",
       "      <td>smart</td>\n",
       "      <td>ab</td>\n",
       "      <td>rund</td>\n",
       "    </tr>\n",
       "    <tr>\n",
       "      <th>5</th>\n",
       "      <td>wohnung</td>\n",
       "      <td>müssen</td>\n",
       "      <td>kunden</td>\n",
       "      <td>nutzen</td>\n",
       "      <td>kunden</td>\n",
       "      <td>beim</td>\n",
       "      <td>fahrzeuge</td>\n",
       "      <td>erledigungen</td>\n",
       "      <td>zähler</td>\n",
       "      <td>handelt</td>\n",
       "      <td>bern</td>\n",
       "    </tr>\n",
       "    <tr>\n",
       "      <th>6</th>\n",
       "      <td>service</td>\n",
       "      <td>deponiert</td>\n",
       "      <td>produziert</td>\n",
       "      <td>kundendienst</td>\n",
       "      <td>warum</td>\n",
       "      <td>etwa</td>\n",
       "      <td>akku</td>\n",
       "      <td>onlineformulare</td>\n",
       "      <td>strom</td>\n",
       "      <td>nachbarn</td>\n",
       "      <td>mineralwässer</td>\n",
       "    </tr>\n",
       "    <tr>\n",
       "      <th>7</th>\n",
       "      <td>eigentümer</td>\n",
       "      <td>kwh</td>\n",
       "      <td>mehr</td>\n",
       "      <td>fritzbox</td>\n",
       "      <td>müssen</td>\n",
       "      <td>pro</td>\n",
       "      <td>schweiz</td>\n",
       "      <td>erleichtern</td>\n",
       "      <td>meter</td>\n",
       "      <td>bern</td>\n",
       "      <td>prozent</td>\n",
       "    </tr>\n",
       "    <tr>\n",
       "      <th>8</th>\n",
       "      <td>anschluss</td>\n",
       "      <td>holz</td>\n",
       "      <td>kundinnen</td>\n",
       "      <td>internet</td>\n",
       "      <td>netzanschluss</td>\n",
       "      <td>jahr</td>\n",
       "      <td>ja</td>\n",
       "      <td>abmeldung</td>\n",
       "      <td>teil</td>\n",
       "      <td>störung</td>\n",
       "      <td>hahnenwasser</td>\n",
       "    </tr>\n",
       "    <tr>\n",
       "      <th>9</th>\n",
       "      <td>angeschlossen</td>\n",
       "      <td>erzeugt</td>\n",
       "      <td>bern</td>\n",
       "      <td>11</td>\n",
       "      <td>wasser</td>\n",
       "      <td>preise</td>\n",
       "      <td>km</td>\n",
       "      <td>möchte</td>\n",
       "      <td>jahresrechnung</td>\n",
       "      <td>rufen</td>\n",
       "      <td>qualität</td>\n",
       "    </tr>\n",
       "  </tbody>\n",
       "</table>\n",
       "</div>"
      ],
      "text/plain": [
       "       Glasfaser   Kehricht         Strom       Internet           Netz  \\\n",
       "0           bern   kehricht      ökostrom         router            ewb   \n",
       "1        energie      tonne         strom          ewbtv          strom   \n",
       "2         wasser        pro       energie         geräte         kosten   \n",
       "3  glasfasernetz      strom  stromprodukt    ewbinternet           bern   \n",
       "4  erschliessung         ab        wasser  kontrollieren        energie   \n",
       "5        wohnung     müssen        kunden         nutzen         kunden   \n",
       "6        service  deponiert    produziert   kundendienst          warum   \n",
       "7     eigentümer        kwh          mehr       fritzbox         müssen   \n",
       "8      anschluss       holz     kundinnen       internet  netzanschluss   \n",
       "9  angeschlossen    erzeugt          bern             11         wasser   \n",
       "\n",
       "     Warme        Mobilitat            Umzug        Diverses    Storungen  \\\n",
       "0   erdgas              chf            umzug          wasser       klären   \n",
       "1   biogas           erdgas           melden         energie        bitte   \n",
       "2     bern  erdgasfahrzeuge           bringt            bern          tel   \n",
       "3  energie             gibt            meist          kunden  ausgefallen   \n",
       "4   wasser           ebikes   bürokratischen           smart           ab   \n",
       "5     beim        fahrzeuge     erledigungen          zähler      handelt   \n",
       "6     etwa             akku  onlineformulare           strom     nachbarn   \n",
       "7      pro          schweiz      erleichtern           meter         bern   \n",
       "8     jahr               ja        abmeldung            teil      störung   \n",
       "9   preise               km           möchte  jahresrechnung        rufen   \n",
       "\n",
       "          Wasser  \n",
       "0         wasser  \n",
       "1        schweiz  \n",
       "2    trinkwasser  \n",
       "3          liter  \n",
       "4           rund  \n",
       "5           bern  \n",
       "6  mineralwässer  \n",
       "7        prozent  \n",
       "8   hahnenwasser  \n",
       "9       qualität  "
      ]
     },
     "execution_count": 19,
     "metadata": {},
     "output_type": "execute_result"
    }
   ],
   "source": [
    "df_top10"
   ]
  },
  {
   "cell_type": "code",
   "execution_count": 20,
   "metadata": {},
   "outputs": [],
   "source": [
    "df_top10_scores = df_top10.copy()"
   ]
  },
  {
   "cell_type": "code",
   "execution_count": 21,
   "metadata": {},
   "outputs": [],
   "source": [
    "all_scores = []\n",
    "max_scores = []\n",
    "for i in df['Tokens']:\n",
    "    score = dict.fromkeys(df_top10.columns, 0)\n",
    "    for j, j_in in zip(df_top10.columns, list(df_top10.index)):\n",
    "        for l in df_top10[j]:\n",
    "            if l in i:\n",
    "                score[j] += 10-j_in\n",
    "    all_scores.append(score)\n",
    "    max_scores.append(max(score, key=score.get))\n",
    "            "
   ]
  },
  {
   "cell_type": "code",
   "execution_count": 22,
   "metadata": {},
   "outputs": [],
   "source": [
    "df['max_scores'] = max_scores\n",
    "df['all_scores'] = all_scores"
   ]
  },
  {
   "cell_type": "code",
   "execution_count": 23,
   "metadata": {},
   "outputs": [],
   "source": [
    "correct = [x == y for x,y in zip(df['Category'], df['max_scores'])]"
   ]
  },
  {
   "cell_type": "code",
   "execution_count": 24,
   "metadata": {},
   "outputs": [],
   "source": [
    "df['correct'] = correct"
   ]
  },
  {
   "cell_type": "code",
   "execution_count": 25,
   "metadata": {},
   "outputs": [
    {
     "data": {
      "text/plain": [
       "0.45429362880886426"
      ]
     },
     "execution_count": 25,
     "metadata": {},
     "output_type": "execute_result"
    }
   ],
   "source": [
    "sum(df.loc[df['Source']=='FAQ (Q&A)']['correct'])/len(df.loc[df['Source']=='FAQ (Q&A)'])"
   ]
  },
  {
   "cell_type": "code",
   "execution_count": null,
   "metadata": {},
   "outputs": [],
   "source": [
    "import pandas as pd\n",
    "from nltk.tokenize import word_tokenize\n",
    "from nltk.probability import FreqDist\n",
    "\n",
    "from google.cloud import language\n",
    "from google.cloud.language import enums\n",
    "from google.cloud.language import types\n",
    "\n",
    "path = 'google_credentials.json' \n",
    "client = language.LanguageServiceClient.from_service_account_json(path)\n",
    "\n",
    "nltk.download('stopwords')\n",
    "df_top10 = pd.read_excel('top_10_words.xls')\n",
    "\n",
    "def preprocess(text):\n",
    "    text = text.lower()\n",
    "    text = text.replace(r'[^\\w\\s]+', '')\n",
    "    tokens = word_tokenize(text)\n",
    "    tokens = [word for word in tokens if word not in stop_words]\n",
    "    return tokens\n",
    "\n",
    "def get_score(tokens):\n",
    "    score = dict.fromkeys(df_top10.columns, 0)\n",
    "    for j, j_in in zip(df_top10.columns, list(df_top10.index)):\n",
    "        for l in df_top10[j]:\n",
    "            if l in tokens:\n",
    "                score[j] += 10-j_in\n",
    "    category = (max(score, key=score.get))\n",
    "    return score, category\n",
    "\n",
    "def google_sentiment(text):\n",
    "    # Score is positive or negative sentiment\n",
    "    # Magnitude is how much the text displays that\n",
    "    document = language.types.Document(\n",
    "            content=text,\n",
    "            type=language.enums.Document.Type.PLAIN_TEXT)\n",
    "    annotations = client.analyze_sentiment(document=document)\n",
    "    score = annotations.document_sentiment.score\n",
    "    magnitude = annotations.document_sentiment.magnitude\n",
    "    if score > 2 & magnitude > 4:\n",
    "        ex_negative = True\n",
    "    return ex_negative\n",
    "\n",
    "def packaged_results(text, user_id, etc):  #user_id, etc just given as examples\n",
    "    score, category = get_score(preprocess(text))\n",
    "    ex_negative = google_sentiment(text)\n",
    "    return {'user_id':user_id, 'text': text, 'category': category, 'score': score, 'ex_negative': ex_negative}"
   ]
  },
  {
   "cell_type": "code",
   "execution_count": 26,
   "metadata": {},
   "outputs": [],
   "source": [
    "def preprocess(text):\n",
    "    text = text.lower()\n",
    "    text = text.replace(r'[^\\w\\s]+', '')\n",
    "    tokens = word_tokenize(text)\n",
    "    tokens = [word for word in tokens if word not in stop_words]\n",
    "    return tokens"
   ]
  },
  {
   "cell_type": "code",
   "execution_count": 27,
   "metadata": {},
   "outputs": [],
   "source": [
    "def get_score(tokens):\n",
    "    score = dict.fromkeys(df_top10.columns, 0)\n",
    "    for j, j_in in zip(df_top10.columns, list(df_top10.index)):\n",
    "        for l in df_top10[j]:\n",
    "            if l in tokens:\n",
    "                score[j] += 10-j_in\n",
    "    category = (max(score, key=score.get))\n",
    "    return score, category"
   ]
  },
  {
   "cell_type": "code",
   "execution_count": 28,
   "metadata": {},
   "outputs": [],
   "source": [
    "def get_multiple(series):\n",
    "    categories = []\n",
    "    scores = []\n",
    "    for i in series:\n",
    "        score, category =get_score(preprocess(i))\n",
    "        scores.append(score)\n",
    "        categories.append(category)\n",
    "    return categories, scores"
   ]
  },
  {
   "cell_type": "code",
   "execution_count": null,
   "metadata": {},
   "outputs": [],
   "source": []
  },
  {
   "cell_type": "markdown",
   "metadata": {},
   "source": [
    "# Testing"
   ]
  },
  {
   "cell_type": "code",
   "execution_count": 31,
   "metadata": {},
   "outputs": [],
   "source": [
    "df_email = pd.read_excel('../data/Mails.xlsx')"
   ]
  },
  {
   "cell_type": "code",
   "execution_count": 32,
   "metadata": {},
   "outputs": [
    {
     "data": {
      "text/html": [
       "<div>\n",
       "<style scoped>\n",
       "    .dataframe tbody tr th:only-of-type {\n",
       "        vertical-align: middle;\n",
       "    }\n",
       "\n",
       "    .dataframe tbody tr th {\n",
       "        vertical-align: top;\n",
       "    }\n",
       "\n",
       "    .dataframe thead th {\n",
       "        text-align: right;\n",
       "    }\n",
       "</style>\n",
       "<table border=\"1\" class=\"dataframe\">\n",
       "  <thead>\n",
       "    <tr style=\"text-align: right;\">\n",
       "      <th></th>\n",
       "      <th>Betreff</th>\n",
       "      <th>Mail</th>\n",
       "      <th>Zuständig</th>\n",
       "      <th>Antwort</th>\n",
       "      <th>Kategorie</th>\n",
       "    </tr>\n",
       "  </thead>\n",
       "  <tbody>\n",
       "    <tr>\n",
       "      <th>0</th>\n",
       "      <td>Wechsel Stromprodukt</td>\n",
       "      <td>Sehr geehrte Damen und Herren\\n\\nGerne möchte ...</td>\n",
       "      <td>Allgemein</td>\n",
       "      <td>Verweis Kundenportal</td>\n",
       "      <td>Strom</td>\n",
       "    </tr>\n",
       "    <tr>\n",
       "      <th>1</th>\n",
       "      <td>Re: Aufschaltbestätigung</td>\n",
       "      <td>Guten Tag\\n\\nAlles bestens soweit, herzlichen ...</td>\n",
       "      <td>Internet</td>\n",
       "      <td>FAQ</td>\n",
       "      <td>Internet, TV</td>\n",
       "    </tr>\n",
       "    <tr>\n",
       "      <th>2</th>\n",
       "      <td>Re: Aufschaltbestätigung</td>\n",
       "      <td>Guten Abend \\n\\nNachdem ich seit dem ersten Ta...</td>\n",
       "      <td>Internet</td>\n",
       "      <td>NaN</td>\n",
       "      <td>Internet, TV, Störungen</td>\n",
       "    </tr>\n",
       "    <tr>\n",
       "      <th>3</th>\n",
       "      <td>NaN</td>\n",
       "      <td>Sehr geehrte Damen und Herren\\n \\nLeider sehe ...</td>\n",
       "      <td>Allgemein</td>\n",
       "      <td>NaN</td>\n",
       "      <td>Strom, Wärme</td>\n",
       "    </tr>\n",
       "    <tr>\n",
       "      <th>4</th>\n",
       "      <td>DRINGEND: Ihre Anfrage betreffend Glasfaserint...</td>\n",
       "      <td>Sehr geehrte Damen und Herren\\n\\nIch hab’s wir...</td>\n",
       "      <td>Beschwerdemanagement</td>\n",
       "      <td>NaN</td>\n",
       "      <td>Internet, Glasfaser</td>\n",
       "    </tr>\n",
       "  </tbody>\n",
       "</table>\n",
       "</div>"
      ],
      "text/plain": [
       "                                             Betreff  \\\n",
       "0                               Wechsel Stromprodukt   \n",
       "1                           Re: Aufschaltbestätigung   \n",
       "2                           Re: Aufschaltbestätigung   \n",
       "3                                                NaN   \n",
       "4  DRINGEND: Ihre Anfrage betreffend Glasfaserint...   \n",
       "\n",
       "                                                Mail             Zuständig  \\\n",
       "0  Sehr geehrte Damen und Herren\\n\\nGerne möchte ...             Allgemein   \n",
       "1  Guten Tag\\n\\nAlles bestens soweit, herzlichen ...              Internet   \n",
       "2  Guten Abend \\n\\nNachdem ich seit dem ersten Ta...              Internet   \n",
       "3  Sehr geehrte Damen und Herren\\n \\nLeider sehe ...             Allgemein   \n",
       "4  Sehr geehrte Damen und Herren\\n\\nIch hab’s wir...  Beschwerdemanagement   \n",
       "\n",
       "                Antwort                Kategorie  \n",
       "0  Verweis Kundenportal                    Strom  \n",
       "1                   FAQ             Internet, TV  \n",
       "2                   NaN  Internet, TV, Störungen  \n",
       "3                   NaN             Strom, Wärme  \n",
       "4                   NaN      Internet, Glasfaser  "
      ]
     },
     "execution_count": 32,
     "metadata": {},
     "output_type": "execute_result"
    }
   ],
   "source": [
    "df_email.head()"
   ]
  },
  {
   "cell_type": "code",
   "execution_count": 33,
   "metadata": {},
   "outputs": [],
   "source": [
    "categories, scores = get_multiple(df_email['Mail'])"
   ]
  },
  {
   "cell_type": "code",
   "execution_count": 34,
   "metadata": {},
   "outputs": [],
   "source": [
    "df_email['categories'] = categories"
   ]
  },
  {
   "cell_type": "code",
   "execution_count": 35,
   "metadata": {},
   "outputs": [],
   "source": [
    "df_email.to_excel('email_cats.xls')"
   ]
  },
  {
   "cell_type": "code",
   "execution_count": 42,
   "metadata": {},
   "outputs": [
    {
     "data": {
      "text/plain": [
       "'Sehr geehrte Damen und Herren\\n\\nGerne möchte ich ab sofort mein Stromprodukt wechseln von Natur.Strom zu Basis.Strom. Bitte veranlassen Sie dies auf den nächstmöglichen Zeitpunkt. Besten Dank.'"
      ]
     },
     "execution_count": 42,
     "metadata": {},
     "output_type": "execute_result"
    }
   ],
   "source": [
    "df_email['Mail'].loc[0]"
   ]
  },
  {
   "cell_type": "markdown",
   "metadata": {},
   "source": [
    "# Sentiment Analysis"
   ]
  },
  {
   "cell_type": "code",
   "execution_count": 48,
   "metadata": {},
   "outputs": [],
   "source": [
    "from google.cloud import language\n",
    "from google.cloud.language import enums\n",
    "from google.cloud.language import types"
   ]
  },
  {
   "cell_type": "code",
   "execution_count": 49,
   "metadata": {},
   "outputs": [],
   "source": [
    "#Setup\n",
    "\n",
    "path = '/Users/chris/OneDrive/flatiron/own_work/attest/google_credentials.json' \n",
    "client = language.LanguageServiceClient.from_service_account_json(path)"
   ]
  },
  {
   "cell_type": "code",
   "execution_count": 50,
   "metadata": {},
   "outputs": [],
   "source": [
    "def google_sentiment(input):\n",
    "    document = language.types.Document(\n",
    "            content=input,\n",
    "            type=language.enums.Document.Type.PLAIN_TEXT)\n",
    "    annotations = client.analyze_sentiment(document=document)\n",
    "    score = annotations.document_sentiment.score\n",
    "    magnitude = annotations.document_sentiment.magnitude\n",
    "    return score, magnitude"
   ]
  },
  {
   "cell_type": "code",
   "execution_count": 51,
   "metadata": {},
   "outputs": [
    {
     "data": {
      "text/plain": [
       "(0.6000000238418579, 2.5)"
      ]
     },
     "execution_count": 51,
     "metadata": {},
     "output_type": "execute_result"
    }
   ],
   "source": [
    "google_sentiment(df_email['Mail'].loc[0])"
   ]
  },
  {
   "cell_type": "code",
   "execution_count": null,
   "metadata": {},
   "outputs": [],
   "source": []
  }
 ],
 "metadata": {
  "kernelspec": {
   "display_name": "nlp_env",
   "language": "python",
   "name": "nlp_env"
  }
 },
 "nbformat": 4,
 "nbformat_minor": 2
}
